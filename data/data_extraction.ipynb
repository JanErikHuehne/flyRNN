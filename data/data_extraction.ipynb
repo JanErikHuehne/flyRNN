{
 "cells": [
  {
   "cell_type": "code",
   "execution_count": 1,
   "metadata": {},
   "outputs": [],
   "source": [
    "import scipy\n",
    "import pandas as pd\n",
    "from pathlib import Path\n",
    "import pickle\n",
    "import numpy as np \n",
    "from matplotlib import pyplot as plt    "
   ]
  },
  {
   "cell_type": "code",
   "execution_count": 43,
   "metadata": {},
   "outputs": [
    {
     "name": "stdout",
     "output_type": "stream",
     "text": [
      "Index([                     'index',                            0,\n",
      "                            'FlyID',               'Templatefile',\n",
      "                           'TSfile',                      'expID',\n",
      "                              'UAS',                       'GAL4',\n",
      "                   'Correspondance',                 'RegionFile',\n",
      "                    'WalkRegressor',             'GroomRegressor',\n",
      "                   'FlailRegressor',              'TurnRegressor',\n",
      "              'ForcedWalkRegressor',        'ForcedTurnRegressor',\n",
      "                               'FR',             'TSlowlimForced',\n",
      "                  'TShighlimForced',              'TSlowlimFlail',\n",
      "                   'TShighlimFlail',               'TSlowlimWalk',\n",
      "                    'TShighlimWalk',                'eye_painted',\n",
      "                    'WalkSubstrate',                       'Side',\n",
      "                      'RegionNames',                  'RegionNum',\n",
      "                    'CoefTurn_ipsi',                'R2Turn_ipsi',\n",
      "                  'CoefTurn_contra',            'CoefIpsi_contra',\n",
      "                    'R2Turn_contra',              'R2Ipsi_contra',\n",
      "                  'R2ipsi_R2contra',        'Coefipsi_Coefcontra',\n",
      "             'CoeffForcedTurn_ipsi',          'R2ForcedTurn_ipsi',\n",
      "           'CoeffForcedTurn_contra',     'CoeffForcedIpsi_contra',\n",
      "              'R2ForcedTurn_contra',        'R2ForcedIpsi_contra',\n",
      "            'R2Forcedipsi_R2contra', 'CoeffForcedipsi_Coefcontra',\n",
      "                           'R2Walk',                   'CoefWalk',\n",
      "                        'R2Walkbin',                'CoefWalkbin',\n",
      "                         'R2Walkon',                 'CoefWalkon',\n",
      "                        'R2Walkoff',                'CoefWalkoff',\n",
      "                   'CoefForcedWalk',               'R2ForcedWalk',\n",
      "                          'R2Groom',                  'CoefGroom',\n",
      "                          'R2Flail',                  'CoefFlail'],\n",
      "      dtype='object')\n"
     ]
    }
   ],
   "source": [
    "with open('./Regionsdf.pkl', 'rb') as f:\n",
    "    comp_data = pickle.load(f)\n",
    "\n",
    "print(comp_data.keys())"
   ]
  },
  {
   "cell_type": "code",
   "execution_count": 45,
   "metadata": {},
   "outputs": [
    {
     "name": "stdout",
     "output_type": "stream",
     "text": [
      "       GAL4 UAS   expID                                      WalkRegressor  \\\n",
      "0      Nsyb  7f     216  Z:\\GrunwaldKadow_group\\Sophie\\WalkProject\\Pan-...   \n",
      "1      Nsyb  7f     244                                                      \n",
      "2      Nsyb  7f     254                                                      \n",
      "3  GMR57C10  7s  100761  Z:\\GrunwaldKadow_group\\Sophie\\WalkProject\\Pan-...   \n",
      "4  GMR57C10  7s  100762  Z:\\GrunwaldKadow_group\\Sophie\\WalkProject\\Pan-...   \n",
      "\n",
      "  ForcedWalkRegressor  forced  \n",
      "0                       False  \n",
      "1                        True  \n",
      "2                        True  \n",
      "3                       False  \n",
      "4                       False  \n"
     ]
    }
   ],
   "source": [
    "comp_data = comp_data[['TSfile', 'GAL4', 'RegionFile', 'FlyID', \"WalkRegressor\", \"ForcedWalkRegressor\", \"expID\", \"UAS\"]]\n",
    "comp_data = comp_data[[\"GAL4\", \"UAS\", \"expID\", \"WalkRegressor\", \"ForcedWalkRegressor\"]].drop_duplicates(keep='first')\n",
    "\n",
    "comp_data[\"forced\"] = [False for i in range(len(comp_data))]\n",
    "\n",
    "for index, k in comp_data.iterrows():\n",
    "     if k[\"WalkRegressor\"]:\n",
    "         pass\n",
    "     else:\n",
    "          comp_data.at[index, \"forced\"] = True\n",
    "\n",
    "print(comp_data[\"forced\"])"
   ]
  },
  {
   "cell_type": "code",
   "execution_count": 44,
   "metadata": {},
   "outputs": [
    {
     "data": {
      "text/plain": [
       "271"
      ]
     },
     "execution_count": 44,
     "metadata": {},
     "output_type": "execute_result"
    }
   ],
   "source": []
  },
  {
   "cell_type": "code",
   "execution_count": null,
   "metadata": {},
   "outputs": [],
   "source": [
    "for k in func_dict.keys():\n",
    "    el = comp_data[comp_data['expID'] == str(k)]\n",
    "    el = el[['TSfile', 'GAL4', 'RegionFile', 'Correspondance', 'CompID', 'FlyID', \"WalkRegressor\", \"ForcedWalkRegressor\"]]\n",
    "    if el.empty:\n",
    "        pass\n",
    "    else:\n",
    "        driver = str(el['GAL4'].unique()[0])\n",
    "        if el['WalkRegressor'].unique()[0]: \n",
    "            forced = False\n",
    "        elif el['ForcedWalkRegressor'].unique()[0]: \n",
    "            forced = True   \n",
    "        #func_dict[k][\"path\"] = str(k)\n",
    "        func_dict[k][\"forced\"] = forced\n",
    "        func_dict[k][\"driver\"] = driver\n",
    "        comp =  el['Correspondance'].to_numpy()[0]\n",
    "        comp = comp.split(\",\")\n",
    "\n",
    "        components = []\n",
    "        for c in comp: \n",
    "            if c.strip(): \n",
    "                components.append(c)\n",
    "        func_dict[k][\"components\"] = components\n",
    "func_df = pd.DataFrame.from_dict(func_dict, orient='index')\n",
    "func_df.to_pickle(\"./func_data_information.pkl\")  "
   ]
  }
 ],
 "metadata": {
  "kernelspec": {
   "display_name": "research_project-HfbaUzfZ",
   "language": "python",
   "name": "python3"
  },
  "language_info": {
   "codemirror_mode": {
    "name": "ipython",
    "version": 3
   },
   "file_extension": ".py",
   "mimetype": "text/x-python",
   "name": "python",
   "nbconvert_exporter": "python",
   "pygments_lexer": "ipython3",
   "version": "3.9.13"
  }
 },
 "nbformat": 4,
 "nbformat_minor": 2
}
